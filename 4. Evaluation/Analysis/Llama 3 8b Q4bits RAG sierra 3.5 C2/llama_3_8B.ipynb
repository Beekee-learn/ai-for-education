{
 "cells": [
  {
   "cell_type": "markdown",
   "metadata": {},
   "source": [
    "# Llama 3 8B Q4 M"
   ]
  },
  {
   "cell_type": "markdown",
   "metadata": {},
   "source": [
    "## Temperature"
   ]
  },
  {
   "cell_type": "code",
   "execution_count": null,
   "metadata": {},
   "outputs": [],
   "source": [
    "import matplotlib.pyplot as plt\n",
    "import datetime\n",
    "\n",
    "# Open the file and read the lines\n",
    "with open('temp.txt', 'r') as file:\n",
    "    lines = file.readlines()\n",
    "\n",
    "# Extract the temperature values and timestamps\n",
    "timestamps = []\n",
    "temperatures = []\n",
    "\n",
    "for line in lines:\n",
    "    parts = line.split(' - temp=')\n",
    "    timestamp_str = parts[0]\n",
    "    temp_str = parts[1].replace(\"'C\", \"\")\n",
    "    \n",
    "    timestamp = datetime.datetime.strptime(timestamp_str, '%Y-%m-%d %H:%M:%S')\n",
    "    temperature = float(temp_str)\n",
    "    \n",
    "    timestamps.append(timestamp)\n",
    "    temperatures.append(temperature)\n",
    "\n",
    "# Create x-axis values starting at 0 with each line 0.5 units away\n",
    "x_values = [i * 0.5 for i in range(len(temperatures))]\n",
    "\n",
    "# Plot the temperatures\n",
    "plt.figure(figsize=(10, 5))\n",
    "plt.plot(x_values, temperatures)\n",
    "plt.xlabel('Time (in seconds)')\n",
    "plt.ylabel('Temperature (°C)')\n",
    "plt.title('Temperature over Time')\n",
    "plt.grid(True)\n",
    "plt.show()\n",
    "\n",
    "mean_temp = sum(temperatures) / len(temperatures)\n",
    "min_temp = min(temperatures)\n",
    "max_temp = max(temperatures)\n",
    "\n",
    "print(f\"Mean Temperature: {mean_temp:.2f}°C\")\n",
    "print(f\"Min Temperature: {min_temp:.2f}°C\")\n",
    "print(f\"Max Temperature: {max_temp:.2f}°C\")"
   ]
  },
  {
   "cell_type": "markdown",
   "metadata": {},
   "source": [
    "## Inference time"
   ]
  },
  {
   "cell_type": "code",
   "execution_count": null,
   "metadata": {},
   "outputs": [],
   "source": [
    "import re\n",
    "\n",
    "# Open the inference.txt file and read the lines\n",
    "with open('inference.txt', 'r') as file:\n",
    "    inference_lines = file.readlines()\n",
    "\n",
    "# Extract the inference times using regular expressions\n",
    "inference_times = []\n",
    "for line in inference_lines:\n",
    "    match = re.search(r'\\[([\\d:]+)<00:00, ([\\d.]+)s/it\\]', line)\n",
    "    if match:\n",
    "        time_str = match.group(2)\n",
    "        inference_time = float(time_str)\n",
    "        inference_times.append(inference_time)\n",
    "\n",
    "# Create x-axis values for the inference times\n",
    "x_inference_values = list(range(len(inference_times)))\n",
    "\n",
    "# Plot the inference times\n",
    "plt.figure(figsize=(10, 5))\n",
    "plt.plot(x_inference_values, inference_times)\n",
    "plt.xlabel('Batch number')\n",
    "plt.ylabel('Mean inference time of one request in the batch (s)')\n",
    "plt.title('Inference Time per Iteration')\n",
    "plt.grid(True)\n",
    "plt.show()\n",
    "mean_inference_time = sum(inference_times) / len(inference_times)\n",
    "min_inference_time = min(inference_times)\n",
    "max_inference_time = max(inference_times)\n",
    "\n",
    "print(f\"Mean Inference Time for one request: {mean_inference_time:.2f}s\")\n",
    "print(f\"Min Inference Time for one request: {min_inference_time:.2f}s\")\n",
    "print(f\"Max Inference Time for one request: {max_inference_time:.2f}s\")"
   ]
  },
  {
   "cell_type": "markdown",
   "metadata": {},
   "source": [
    "## CPU load"
   ]
  },
  {
   "cell_type": "code",
   "execution_count": null,
   "metadata": {},
   "outputs": [],
   "source": [
    "import json\n",
    "\n",
    "# Open the cpu.json file and read the data\n",
    "with open('cpu.json', 'r') as file:\n",
    "    cpu_data = json.load(file)\n",
    "\n",
    "# Extract the cpu_usage values\n",
    "cpu_usage = [entry['cpu_usage'] for entry in cpu_data]\n",
    "\n",
    "# Create x-axis values for the cpu usage\n",
    "x_cpu_values = list(range(len(cpu_usage)))\n",
    "\n",
    "# Plot the cpu usage\n",
    "plt.figure(figsize=(10, 5))\n",
    "plt.plot(x_cpu_values, cpu_usage, label='CPU Usage')\n",
    "plt.fill_between(x_cpu_values, cpu_usage, color='skyblue', alpha=0.4)\n",
    "plt.ylim(bottom=0)  # Set the y-axis to start at 0\n",
    "plt.xlim(left=0)    # Set the x-axis to start at 0\n",
    "plt.xlabel('Time (in seconds)')\n",
    "plt.ylabel('CPU Usage (%)')\n",
    "plt.title('CPU Usage over Time')\n",
    "plt.grid(True)\n",
    "plt.legend()\n",
    "plt.show()"
   ]
  }
 ],
 "metadata": {
  "kernelspec": {
   "display_name": ".venv",
   "language": "python",
   "name": "python3"
  },
  "language_info": {
   "codemirror_mode": {
    "name": "ipython",
    "version": 3
   },
   "file_extension": ".py",
   "mimetype": "text/x-python",
   "name": "python",
   "nbconvert_exporter": "python",
   "pygments_lexer": "ipython3",
   "version": "3.11.11"
  }
 },
 "nbformat": 4,
 "nbformat_minor": 2
}
